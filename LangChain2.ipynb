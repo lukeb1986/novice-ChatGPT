{
  "cells": [
    {
      "cell_type": "markdown",
      "metadata": {
        "id": "EyjJJpvQYD0_"
      },
      "source": [
        "## Install packages"
      ]
    },
    {
      "cell_type": "code",
      "execution_count": null,
      "metadata": {
        "colab": {
          "base_uri": "https://localhost:8080/"
        },
        "id": "QhI2Die_YCMq",
        "outputId": "012262e3-95a5-4900-9ad8-0bd318be195b"
      },
      "outputs": [],
      "source": [
        "%pip install langchain\n",
        "%pip install openai\n",
        "%pip install -qU pinecone-client pandas"
      ]
    },
    {
      "cell_type": "code",
      "execution_count": null,
      "metadata": {
        "colab": {
          "base_uri": "https://localhost:8080/"
        },
        "id": "CPDEzSFiZ_IW",
        "outputId": "d165a577-5fba-41ef-d580-c3dfacb5c582"
      },
      "outputs": [],
      "source": [
        "%pip install unstructured"
      ]
    },
    {
      "cell_type": "code",
      "execution_count": null,
      "metadata": {
        "colab": {
          "base_uri": "https://localhost:8080/",
          "height": 1000
        },
        "id": "ygmv-QiGaSK_",
        "outputId": "f141e672-8cdf-4b91-cc5e-d7e8334cd8ad"
      },
      "outputs": [],
      "source": [
        "%pip install unstructured[local-inference]"
      ]
    },
    {
      "cell_type": "code",
      "execution_count": null,
      "metadata": {
        "colab": {
          "base_uri": "https://localhost:8080/"
        },
        "id": "5e7a4RTorcFy",
        "outputId": "2d466db8-8ee6-42b0-b85c-5582bfafa22d"
      },
      "outputs": [],
      "source": [
        "%pip install tiktoken"
      ]
    },
    {
      "cell_type": "markdown",
      "metadata": {
        "id": "vDPrL8yBYiEf"
      },
      "source": [
        "## Load Data - pdf"
      ]
    },
    {
      "cell_type": "code",
      "execution_count": null,
      "metadata": {
        "id": "lGA09kdGZkV-"
      },
      "outputs": [],
      "source": [
        "from langchain.document_loaders import UnstructuredPDFLoader, OnlinePDFLoader\n",
        "from langchain.text_splitter import RecursiveCharacterTextSplitter"
      ]
    },
    {
      "cell_type": "code",
      "execution_count": null,
      "metadata": {
        "id": "I-Yy9tsrYa4s"
      },
      "outputs": [],
      "source": [
        "loader = UnstructuredPDFLoader(\"./budget_english_speech_2022.pdf\")"
      ]
    },
    {
      "cell_type": "code",
      "execution_count": null,
      "metadata": {
        "colab": {
          "base_uri": "https://localhost:8080/"
        },
        "id": "-pjZmXYfZhKW",
        "outputId": "b0eaa366-a4b4-4e37-b2cc-a11791427d20"
      },
      "outputs": [],
      "source": [
        "data = loader.load()"
      ]
    },
    {
      "cell_type": "code",
      "execution_count": null,
      "metadata": {
        "colab": {
          "base_uri": "https://localhost:8080/"
        },
        "id": "QmDxIff4aJgx",
        "outputId": "de0703df-a80a-478d-f1eb-f474feb57d3b"
      },
      "outputs": [],
      "source": [
        "print (f'You have {len(data)} document(s) in your data')\n",
        "print (f'There are {len(data[0].page_content)} characters in your document')"
      ]
    },
    {
      "cell_type": "markdown",
      "metadata": {
        "id": "0xHr23JbawRy"
      },
      "source": [
        "### Chunk your data up into smaller documents"
      ]
    },
    {
      "cell_type": "code",
      "execution_count": null,
      "metadata": {
        "id": "q628oAGmapXV"
      },
      "outputs": [],
      "source": [
        "text_splitter = RecursiveCharacterTextSplitter(chunk_size=1000, chunk_overlap=0)\n",
        "texts = text_splitter.split_documents(data)"
      ]
    },
    {
      "cell_type": "code",
      "execution_count": null,
      "metadata": {
        "colab": {
          "base_uri": "https://localhost:8080/"
        },
        "id": "BPVcUj2rayrm",
        "outputId": "768094bd-74c5-4e91-9251-fb795bb13bb6"
      },
      "outputs": [],
      "source": [
        "print (f'Now you have {len(texts)} documents')"
      ]
    },
    {
      "cell_type": "code",
      "execution_count": null,
      "metadata": {
        "colab": {
          "base_uri": "https://localhost:8080/",
          "height": 156
        },
        "id": "r7-Xtbx4cWx9",
        "outputId": "6a62be50-7f1d-469a-8847-89e9003f6ae5"
      },
      "outputs": [],
      "source": [
        "texts[12].page_content"
      ]
    },
    {
      "cell_type": "markdown",
      "metadata": {
        "id": "LVvQjYMqa3ll"
      },
      "source": [
        "## Create embeddings of your documents to get ready for semantic search"
      ]
    },
    {
      "cell_type": "code",
      "execution_count": null,
      "metadata": {
        "colab": {
          "base_uri": "https://localhost:8080/"
        },
        "id": "kCYRnPp0a1Su",
        "outputId": "df6b1b95-6e00-4046-c174-35fd3877a651"
      },
      "outputs": [],
      "source": [
        "from langchain.vectorstores import Chroma, Pinecone\n",
        "from langchain.embeddings.openai import OpenAIEmbeddings\n",
        "import pinecone"
      ]
    },
    {
      "cell_type": "code",
      "execution_count": null,
      "metadata": {
        "id": "_wFO9Jewa57F"
      },
      "outputs": [],
      "source": [
        "OPENAI_API_KEY = \"sk-Aq2YWVVDKXZac3Cb23bzT3BlbkFJtgzYEZArDok5LmJ\"\n",
        "PINECONE_API_KEY = '33adfd02-ed28-4676-872a-e78f3f3500c8'\n",
        "PINECONE_API_ENV = 'northamerica-northeast1-gcp'"
      ]
    },
    {
      "cell_type": "code",
      "execution_count": null,
      "metadata": {
        "id": "Kuz8VPe_b1qu"
      },
      "outputs": [],
      "source": [
        "# Index anme : budget-speech\n",
        "# Dimensions\n",
        "\n",
        "embeddings = OpenAIEmbeddings(openai_api_key=OPENAI_API_KEY)"
      ]
    },
    {
      "cell_type": "code",
      "execution_count": null,
      "metadata": {
        "id": "UR8g1Q3ScKeJ"
      },
      "outputs": [],
      "source": [
        "# initialize pinecone\n",
        "pinecone.init(\n",
        "    api_key=PINECONE_API_KEY,  # find at app.pinecone.io\n",
        "    environment=PINECONE_API_ENV  # next to api key in console\n",
        ")\n",
        "index_name = \"budget-speech\""
      ]
    },
    {
      "cell_type": "code",
      "execution_count": null,
      "metadata": {
        "colab": {
          "base_uri": "https://localhost:8080/",
          "height": 164
        },
        "id": "39OorezDcQet",
        "outputId": "a2bd88d0-008d-49d7-ba8b-be6958a1207d"
      },
      "outputs": [],
      "source": [
        "docsearch = Pinecone.from_texts([t.page_content for t in texts], embeddings, index_name=index_name)"
      ]
    },
    {
      "cell_type": "code",
      "execution_count": null,
      "metadata": {
        "id": "2yuQ1adPcejL"
      },
      "outputs": [],
      "source": [
        "query = \"What are some key highlights of budget?\"\n",
        "docs = docsearch.similarity_search(query, include_metadata=True)"
      ]
    },
    {
      "cell_type": "code",
      "execution_count": null,
      "metadata": {
        "colab": {
          "base_uri": "https://localhost:8080/"
        },
        "id": "35bdRvhwcqcO",
        "outputId": "aa3351c1-b598-4687-bb88-2eaeb81199ac"
      },
      "outputs": [],
      "source": [
        "docs"
      ]
    },
    {
      "cell_type": "markdown",
      "metadata": {
        "id": "OFaFghFZdo72"
      },
      "source": [
        "## Query using Index in Pinecone"
      ]
    },
    {
      "cell_type": "code",
      "execution_count": null,
      "metadata": {
        "colab": {
          "base_uri": "https://localhost:8080/"
        },
        "id": "IZLKJIwlcoTp",
        "outputId": "582cd6ba-4d4a-411e-920b-2a7e5465b69c"
      },
      "outputs": [],
      "source": [
        "type(docsearch)"
      ]
    },
    {
      "cell_type": "code",
      "execution_count": null,
      "metadata": {
        "id": "O0swQdaqg3zQ"
      },
      "outputs": [],
      "source": [
        "from langchain.llms import OpenAI\n",
        "from langchain.chains.question_answering import load_qa_chain"
      ]
    },
    {
      "cell_type": "code",
      "execution_count": null,
      "metadata": {
        "id": "zZBjHBhpg6Ee"
      },
      "outputs": [],
      "source": [
        "llm = OpenAI(temperature=0.9, openai_api_key=OPENAI_API_KEY)\n",
        "chain = load_qa_chain(llm, chain_type=\"map_reduce\") #stuff 0.06"
      ]
    },
    {
      "cell_type": "code",
      "execution_count": null,
      "metadata": {
        "id": "o9AZcZoifMjn"
      },
      "outputs": [],
      "source": [
        "p_vectorstore = Pinecone.from_existing_index(index_name, embeddings)\n"
      ]
    },
    {
      "cell_type": "code",
      "execution_count": null,
      "metadata": {
        "id": "EinT-X_Dgt-3"
      },
      "outputs": [],
      "source": [
        "query = \"What are some key highlights of budget?\"\n",
        "docs = p_vectorstore.similarity_search(query, include_metadata=True)"
      ]
    },
    {
      "cell_type": "code",
      "execution_count": null,
      "metadata": {
        "colab": {
          "base_uri": "https://localhost:8080/",
          "height": 122
        },
        "id": "ZW-ZYlKBhCZC",
        "outputId": "75eded16-b640-45ba-a5ea-2d95555dc217"
      },
      "outputs": [],
      "source": [
        "chain.run(input_documents=docs, question=query)"
      ]
    },
    {
      "cell_type": "code",
      "execution_count": null,
      "metadata": {
        "colab": {
          "base_uri": "https://localhost:8080/",
          "height": 37
        },
        "id": "-MPukMLqhD7i",
        "outputId": "5f3cb51e-5c76-4459-ca4c-f56d47be9316"
      },
      "outputs": [],
      "source": [
        "query = \"In what context Narendra Modi was mentioned?\"\n",
        "docs = p_vectorstore.similarity_search(query, include_metadata=True)\n",
        "chain.run(input_documents=docs, question=query, verbose=True)"
      ]
    },
    {
      "cell_type": "code",
      "execution_count": null,
      "metadata": {
        "colab": {
          "base_uri": "https://localhost:8080/",
          "height": 71
        },
        "id": "j7VFWITsocok",
        "outputId": "0a6ddbb6-67bd-4c66-80ae-ad3f4d7f2c69"
      },
      "outputs": [],
      "source": [
        "query = \"In what context Prime Minister was mentioned? List few of them\"\n",
        "docs = p_vectorstore.similarity_search(query, include_metadata=True)\n",
        "chain.run(input_documents=docs, question=query, verbose=True)"
      ]
    },
    {
      "cell_type": "code",
      "execution_count": null,
      "metadata": {
        "colab": {
          "base_uri": "https://localhost:8080/",
          "height": 54
        },
        "id": "Eru-BQ35olO4",
        "outputId": "47038e18-61a7-4907-f4db-a07f7e30a0a2"
      },
      "outputs": [],
      "source": [
        "# with chain_type =\"stuff\"\n",
        "query = \"What did Prime Minister say during Independence Day?\"\n",
        "docs = p_vectorstore.similarity_search(query, include_metadata=True)\n",
        "chain.run(input_documents=docs, question=query, verbose=True)"
      ]
    },
    {
      "cell_type": "code",
      "execution_count": null,
      "metadata": {
        "colab": {
          "base_uri": "https://localhost:8080/",
          "height": 54
        },
        "id": "zIml2soeo-7t",
        "outputId": "565188b7-8a3d-46b7-c743-41025795ebec"
      },
      "outputs": [],
      "source": [
        "# with chain_type =\"map_reduce\"\n",
        "query = \"What did Prime Minister say during Independence Day?\"\n",
        "docs = p_vectorstore.similarity_search(query, include_metadata=True)\n",
        "chain.run(input_documents=docs, question=query, verbose=True)"
      ]
    },
    {
      "cell_type": "code",
      "execution_count": null,
      "metadata": {
        "colab": {
          "base_uri": "https://localhost:8080/",
          "height": 37
        },
        "id": "kiq7D2Frpp9p",
        "outputId": "544f12e6-d15e-4186-aa60-e35f99520611"
      },
      "outputs": [],
      "source": [
        "query = \"What did Narendra Modi say during Independence Day?\"\n",
        "docs = p_vectorstore.similarity_search(query, include_metadata=True)\n",
        "chain.run(input_documents=docs, question=query, verbose=True)"
      ]
    },
    {
      "cell_type": "code",
      "execution_count": null,
      "metadata": {
        "colab": {
          "base_uri": "https://localhost:8080/",
          "height": 88
        },
        "id": "wGqt5q1QxeLY",
        "outputId": "c8de78eb-6ce9-418f-994e-c250fb9bdf8e"
      },
      "outputs": [],
      "source": [
        "query = \"What was spoken about veterans or millitary personnels? Did they get any benefit?\"\n",
        "docs = p_vectorstore.similarity_search(query, include_metadata=True)\n",
        "chain.run(input_documents=docs, question=query, verbose=True)"
      ]
    },
    {
      "cell_type": "code",
      "execution_count": null,
      "metadata": {
        "colab": {
          "base_uri": "https://localhost:8080/",
          "height": 156
        },
        "id": "QL9euPBMyMz1",
        "outputId": "f8ae8e50-bcf2-425a-a772-8110bb0c00a5"
      },
      "outputs": [],
      "source": [
        "query = \"What was spoken about veterans or millitary personnels? Did they get any benefit?\"\n",
        "docs = p_vectorstore.similarity_search(query, include_metadata=True, k=10)\n",
        "chain.run(input_documents=docs, question=query, verbose=True)"
      ]
    },
    {
      "cell_type": "code",
      "execution_count": null,
      "metadata": {
        "id": "fQ4VR5xCywQI"
      },
      "outputs": [],
      "source": []
    }
  ],
  "metadata": {
    "colab": {
      "provenance": []
    },
    "kernelspec": {
      "display_name": "Python 3",
      "name": "python3"
    },
    "language_info": {
      "name": "python",
      "version": "3.10.11"
    }
  },
  "nbformat": 4,
  "nbformat_minor": 0
}
